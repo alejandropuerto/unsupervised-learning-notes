{
 "cells": [
  {
   "cell_type": "code",
   "execution_count": 51,
   "metadata": {},
   "outputs": [],
   "source": [
    "import numpy as np"
   ]
  },
  {
   "cell_type": "markdown",
   "metadata": {},
   "source": [
    "All hierarchical algorithms described here work on the distance matrix, lets recover the function to calculate it:"
   ]
  },
  {
   "cell_type": "code",
   "execution_count": 1,
   "metadata": {},
   "outputs": [],
   "source": [
    "def distance_matrix(X):\n",
    "    \"\"\"Returns the distance matrix from a data matrix X. \"\"\"\n",
    "    \n",
    "    D = np.sqrt(np.sum((X[:, np.newaxis, :] - X[np.newaxis, :, :]) ** 2, axis = -1))\n",
    "    \n",
    "    return D"
   ]
  },
  {
   "cell_type": "markdown",
   "metadata": {},
   "source": [
    "# Hierarchical Clustering"
   ]
  },
  {
   "cell_type": "markdown",
   "metadata": {},
   "source": [
    "Hierarchical clustering algorithms they hierarchical representations in which\n",
    "the clusters at each level of the hierarchy are created by merging clusters\n",
    "at the next lower level. At the lowest level, each cluster contains a single\n",
    "observation. At the highest level there is only one cluster containing all of\n",
    "the data. \n",
    "\n",
    "Two basic paradigms:\n",
    "1. Agglomerative (bottom-up): Start at the bottom and at each level recursively merge a selected pair of clusters into a single cluster. This produces a grouping at the next higher level with one less cluster. The pair chosen for merging consist of the two groups with the smallest intergroup dissimilarity.\n",
    "\n",
    "2. Divisive (top-down): Divisive methods start at the top and at each level recursively split one of the existing clusters at that level into two new clusters. The split is chosen to produce two new groups with the largest between-group dissimilarity. \n",
    "\n",
    "With both paradigms there are $N - 1$ levels in the hierarchy. Each level represents a different partition. The entire hierarchy represents an ordered sequence of such groupings. The choice of a particular partition depends on the characteristics of each particular dataset, and often requires domain knowledge, though some metrics, such as the gap statistic can aid the decision. "
   ]
  },
  {
   "cell_type": "markdown",
   "metadata": {},
   "source": [
    "## Agglomerative clustering: Linkage Schemes\n"
   ]
  },
  {
   "cell_type": "markdown",
   "metadata": {},
   "source": [
    "While we can use the distance_matrix function, for our first example we will provide a pre-computed distance "
   ]
  },
  {
   "cell_type": "code",
   "execution_count": 50,
   "metadata": {},
   "outputs": [],
   "source": [
    "D = np.array([\n",
    "    [ 0, 17, 21, 31, 23],\n",
    "    [17,  0, 30, 34, 21],\n",
    "    [21, 30,  0, 28, 39],\n",
    "    [31, 34, 28,  0, 43],\n",
    "    [23, 21, 39, 43,  0]\n",
    "])"
   ]
  },
  {
   "cell_type": "markdown",
   "metadata": {},
   "source": [
    "### Single Linkage"
   ]
  },
  {
   "cell_type": "code",
   "execution_count": null,
   "metadata": {},
   "outputs": [],
   "source": [
    "def single_linkage(D, r, s):\n",
    "    \"\"\" Finds new cluster distances according to the single\n",
    "    linkage criterion.\n",
    "    INPUTS:\n",
    "        - D: distance matrix\n",
    "        - r: index of first\n",
    "        - s: index of second\n",
    "    OUTPUTS:\n",
    "        - \"\"\""
   ]
  },
  {
   "cell_type": "markdown",
   "metadata": {},
   "source": [
    "### Agglomerative clustering: Single Linkage\n",
    "\n",
    "In single-linkage clustering, the distance between two clusters is determined by a single element pair, namely those two elements (one in each cluster) that are closest to each other. The shortest of these links that remains at any step causes the fusion of the two clusters whose elements are involved. The method is also known as nearest neighbor clustering.  A drawback of this method is that it tends to produce long thin clusters in which nearby elements of the same cluster have small distances, but elements at opposite ends of a cluster may be much farther from each other than two elements of other clusters. This may lead to difficulties in defining classes that could usefully subdivide the data.\n",
    "\n",
    "Mathematically, the linkage function – the distance D(X,Y) between clusters X and Y – is described by the expression\n",
    "$$\n",
    "D(X,Y)=\\min _{x\\in X,y\\in Y}d(x,y),\n",
    "$$\n",
    "where $X$ and $Y$ are any two sets of elements considered as clusters, and $d(x,y)$ denotes the distance between the two elements $x$ and $y$.\n",
    "\n",
    "The following algorithm is an agglomerative scheme that erases rows and columns in a proximity matrix as old clusters are merged into new ones. The $N\\times N$ proximity matrix $D$ contains all distances $d(i,j)$. The clusterings are assigned sequence numbers $0,1,\\ldots,n-1$ and $L(k)$ is the level of the $k$-th clustering. A cluster with sequence number $m$ is denoted $(m)$ and the proximity between clusters $(r)$ and $(s)$ is denoted $d[(r),(s)]$.\n",
    "\n",
    "The single linkage algorithm is composed of the following steps:\n",
    "1. Begin with the disjoint clustering having level $L(0)=0$ and sequence number $m=0$.\n",
    "2. Find the most similar pair of clusters in the current clustering, say pair $(r),(s)$, according to $d[(r),(s)]=\\min d[(i),(j)]$ where the minimum is over all pairs of clusters in the current clustering.\n",
    "3. Increment the sequence number: $m=m+1$. Merge clusters $(r)$ and $(s)$ into a single cluster to form the next clustering $m$. Set the level of this clustering to $L(m)=d[(r),(s)]$.\n",
    "4. Update the proximity matrix, $D$, by deleting the rows and columns corresponding to clusters $(r)$ and $(s)$ and adding a row and column corresponding to the newly formed cluster. The proximity between the new cluster, denoted $(r,s)$ and old cluster $(k)$ is defined as $d[(r,s),(k)]=\\min\\{d[(k),(r)],d[(k),(s)]\\}$.\n",
    "5. If all objects are in one cluster, stop. Else, go to step 2."
   ]
  },
  {
   "cell_type": "markdown",
   "metadata": {},
   "source": [
    "We now need a function to find the minimum distance in a distance matrix:"
   ]
  },
  {
   "cell_type": "code",
   "execution_count": 49,
   "metadata": {},
   "outputs": [],
   "source": [
    "def find_merge(D):\n",
    "    \"\"\" Find clusters to merge.\n",
    "    \n",
    "    INPUTS:\n",
    "        - D: square distance matrix.\n",
    "    OUTPUTS:\n",
    "        - d_min: minimum distance in D.\n",
    "        - i: row index of d_min\n",
    "        - j: column index of d_min\n",
    "    \"\"\"\n",
    "\n",
    "    \n",
    "    d = D.shape[0]\n",
    "    \n",
    "    # You must return the following values correctly\n",
    "    d_min = 0\n",
    "    i = -1\n",
    "    j = -1\n",
    "    \n",
    "    # Find minimum of the distance matrix excluding the diagonal\n",
    "    ### BEGIN SOLUTION\n",
    "    mask = np.ones(D.shape, dtype=bool)\n",
    "    np.fill_diagonal(mask, 0)\n",
    "    valid_idx = np.where(mask)[0]\n",
    "    d_min = D[mask].min()\n",
    "    i, j = np.where(D == d_min)[0]\n",
    "    ### END SOLUTION\n",
    "        \n",
    "    return d_min, i, j"
   ]
  },
  {
   "cell_type": "markdown",
   "metadata": {},
   "source": [
    "Now, test it on the example Data Matrix D, you should obtain 17:"
   ]
  },
  {
   "cell_type": "code",
   "execution_count": 47,
   "metadata": {},
   "outputs": [
    {
     "name": "stdout",
     "output_type": "stream",
     "text": [
      "Minimum distance in D: 17, at position (0,1)\n"
     ]
    }
   ],
   "source": [
    "d, i, j = dist_sl(D)\n",
    "print(f'Minimum distance in D: {d}, at position ({i},{j})')\n",
    "### BEGIN HIDDEN TESTS\n",
    "assert dist_sl(D) == (17, 0, 1)\n",
    "### END HIDDEN TESTS"
   ]
  },
  {
   "cell_type": "markdown",
   "metadata": {},
   "source": [
    "Now we need a way to delete the corresponding row/columns in D, and add a new pair of row-column for the new cluster formed my merging. Adding and deleting rows/columns from numpy arrays is SLOW, so a better approach is to use masks on the original data matrix. If you are not familiar with masks, you may take the slow approach of modifying the D matrix at each iteration."
   ]
  },
  {
   "cell_type": "code",
   "execution_count": 55,
   "metadata": {},
   "outputs": [],
   "source": [
    "def merge_clusters(D, i, j):\n",
    "    \"\"\" Merge clusters (i) (j) with distances given in D. \n",
    "    INPUTS:\n",
    "        - D: distance matrix for clusters.\n",
    "        - i: index of the first cluster to merge.\n",
    "        - j: index of the second cluster to merge.\n",
    "        \n",
    "    OUPUT\n",
    "        - D_new: new data matrix with \"\"\"\n",
    "    \n",
    "    mask = mask = np.ones(D.shape, dtype=bool)\n",
    "    # Remove row i and column j\n",
    "    mask[i,:] = False\n",
    "    mask[:,j] = False\n",
    "    \n",
    "    # Replace contents in row j and column i with\n",
    "    # the distances to the new cluster.\n",
    "    "
   ]
  },
  {
   "cell_type": "code",
   "execution_count": 56,
   "metadata": {},
   "outputs": [],
   "source": [
    "mask = mask = np.ones(D.shape, dtype=bool)\n",
    "mask[i,:] = False\n",
    "mask[:,j] = False"
   ]
  },
  {
   "cell_type": "code",
   "execution_count": 57,
   "metadata": {},
   "outputs": [
    {
     "data": {
      "text/plain": [
       "array([17, 30, 34, 21, 21,  0, 28, 39, 31, 28,  0, 43, 23, 39, 43,  0])"
      ]
     },
     "execution_count": 57,
     "metadata": {},
     "output_type": "execute_result"
    }
   ],
   "source": [
    "D[mask].reshape()"
   ]
  },
  {
   "cell_type": "markdown",
   "metadata": {},
   "source": [
    "### Agglomerative clustering: Complete Linkage"
   ]
  },
  {
   "cell_type": "markdown",
   "metadata": {},
   "source": [
    "### Agglomerative clustering: Average Linkage"
   ]
  },
  {
   "cell_type": "markdown",
   "metadata": {},
   "source": [
    "### Agglomerative clustering: Wards criterion"
   ]
  },
  {
   "cell_type": "markdown",
   "metadata": {},
   "source": [
    "## Dendrogram\n",
    "\n",
    "Recursive binary splitting/agglomeration can be represented by a rooted\n",
    "binary tree. The nodes of the trees represent groups. The root node represents the entire data set. The N terminal nodes each represent one of the\n",
    "individual observations (singleton clusters). Each nonterminal node (\"parent\") has two daughter nodes. For divisive clustering the two daughters\n",
    "represent the two groups resulting from the split of the parent; for agglomerative clustering the daughters represent the two groups that were merged\n",
    "to form the parent.\n",
    "\n",
    "Most agglomerative and some divisive methods (when viewed bottom-up) possess a monotonicity property. That is, the dissimilarity between\n",
    "merged clusters is monotone increasing with the level of the merger. Thus\n",
    "the binary tree can be plotted so that the height of each node is proportional\n",
    "to the value of the intergroup dissimilarity between its two daughters. The\n",
    "terminal nodes representing individual observations are all plotted at zero\n",
    "height. This type of graphical display is called a dendrogram.\n"
   ]
  },
  {
   "cell_type": "markdown",
   "metadata": {},
   "source": [
    "## References\n",
    "- Elements of Statistical Learning Section 14.3.12\n",
    "- https://en.wikipedia.org/wiki/Single-linkage_clustering"
   ]
  },
  {
   "cell_type": "markdown",
   "metadata": {},
   "source": [
    "## Example: Human Tumor Microarray Data"
   ]
  },
  {
   "cell_type": "code",
   "execution_count": 7,
   "metadata": {},
   "outputs": [],
   "source": [
    "import pickle as pkl\n",
    "import numpy as np\n",
    "import matplotlib.pyplot as plt"
   ]
  },
  {
   "cell_type": "code",
   "execution_count": 33,
   "metadata": {},
   "outputs": [],
   "source": [
    "f = open('nci.micro.data.pkl', 'rb')\n",
    "data_dic = pkl.load(f)\n",
    "f.close()\n",
    "\n",
    "X = data_dic['data'].T\n",
    "y = data_dic['labels']"
   ]
  },
  {
   "cell_type": "code",
   "execution_count": 34,
   "metadata": {},
   "outputs": [
    {
     "data": {
      "image/png": "[encoded data removed]",
      "text/plain": [
       "<Figure size 1080x1080 with 1 Axes>"
      ]
     },
     "metadata": {
      "needs_background": "light"
     },
     "output_type": "display_data"
    }
   ],
   "source": [
    "fig, ax = plt.subplots(figsize=(15,15))\n",
    "im = ax.imshow(X.T[np.random.randint(len(X), size=100),:], cmap='inferno')\n",
    "\n",
    "labels = data_dic['labels']\n",
    "gens = [f'gen{x:03}' for x in range(100)]\n",
    "\n",
    "# We want to show all ticks\n",
    "ax.set_xticks(np.arange(len(labels)))\n",
    "ax.set_yticks([])\n",
    "ax.set_xticklabels(labels)\n",
    "ax.set_ylabel('gens')\n",
    "\n",
    "# Rotate the tick labels and set their alignment.\n",
    "plt.setp(ax.get_xticklabels(), rotation=90, ha=\"right\",\n",
    "         rotation_mode=\"anchor\")\n",
    "\n",
    "ax.set_title(\"DNA microrray data. Sample of 100 gens (rows) and 64 tumors (columns). Color meassures gen expression.\")\n",
    "fig.tight_layout()\n",
    "plt.show()"
   ]
  },
  {
   "cell_type": "markdown",
   "metadata": {},
   "source": [
    "### K-means for comparison"
   ]
  },
  {
   "cell_type": "code",
   "execution_count": 24,
   "metadata": {},
   "outputs": [],
   "source": [
    "from sklearn.cluster import KMeans"
   ]
  },
  {
   "cell_type": "code",
   "execution_count": 35,
   "metadata": {},
   "outputs": [
    {
     "data": {
      "image/png": "[encoded data removed]",
      "text/plain": [
       "<Figure size 432x288 with 1 Axes>"
      ]
     },
     "metadata": {
      "needs_background": "light"
     },
     "output_type": "display_data"
    }
   ],
   "source": [
    "# How many clusters?\n",
    "sum_sq = []\n",
    "for K in range(1,11):\n",
    "    kmeans = KMeans(n_clusters=K, random_state=0).fit(X)\n",
    "    sum_sq.append(kmeans.inertia_)\n",
    "plt.plot(range(1,11), sum_sq, '-o')\n",
    "plt.xlabel('Number of clusters K')\n",
    "plt.ylabel('Sum of Squares');"
   ]
  },
  {
   "cell_type": "code",
   "execution_count": 65,
   "metadata": {},
   "outputs": [],
   "source": [
    "# No clear elbow, choose K=3.\n",
    "kmeans = KMeans(n_clusters=3, random_state=0).fit(X)\n",
    "C = kmeans.labels_"
   ]
  },
  {
   "cell_type": "code",
   "execution_count": 69,
   "metadata": {},
   "outputs": [
    {
     "data": {
      "text/html": [
       "<div>\n",
       "<style scoped>\n",
       "    .dataframe tbody tr th:only-of-type {\n",
       "        vertical-align: middle;\n",
       "    }\n",
       "\n",
       "    .dataframe tbody tr th {\n",
       "        vertical-align: top;\n",
       "    }\n",
       "\n",
       "    .dataframe thead th {\n",
       "        text-align: right;\n",
       "    }\n",
       "</style>\n",
       "<table border=\"1\" class=\"dataframe\">\n",
       "  <thead>\n",
       "    <tr style=\"text-align: right;\">\n",
       "      <th></th>\n",
       "      <th>BREAST</th>\n",
       "      <th>CNS</th>\n",
       "      <th>COLON</th>\n",
       "      <th>K562A-repro</th>\n",
       "      <th>K562B-repro</th>\n",
       "      <th>LEUKEMIA</th>\n",
       "      <th>MCF7A-repro</th>\n",
       "      <th>MCF7D-repro</th>\n",
       "      <th>MELANOMA</th>\n",
       "      <th>NSCLC</th>\n",
       "      <th>OVARIAN</th>\n",
       "      <th>PROSTATE</th>\n",
       "      <th>RENAL</th>\n",
       "      <th>UNKNOWN</th>\n",
       "    </tr>\n",
       "  </thead>\n",
       "  <tbody>\n",
       "    <tr>\n",
       "      <th>0</th>\n",
       "      <td>2</td>\n",
       "      <td>0</td>\n",
       "      <td>7</td>\n",
       "      <td>1</td>\n",
       "      <td>1</td>\n",
       "      <td>6</td>\n",
       "      <td>1</td>\n",
       "      <td>1</td>\n",
       "      <td>0</td>\n",
       "      <td>0</td>\n",
       "      <td>0</td>\n",
       "      <td>0</td>\n",
       "      <td>0</td>\n",
       "      <td>0</td>\n",
       "    </tr>\n",
       "    <tr>\n",
       "      <th>1</th>\n",
       "      <td>2</td>\n",
       "      <td>0</td>\n",
       "      <td>0</td>\n",
       "      <td>0</td>\n",
       "      <td>0</td>\n",
       "      <td>0</td>\n",
       "      <td>0</td>\n",
       "      <td>0</td>\n",
       "      <td>7</td>\n",
       "      <td>0</td>\n",
       "      <td>0</td>\n",
       "      <td>0</td>\n",
       "      <td>0</td>\n",
       "      <td>0</td>\n",
       "    </tr>\n",
       "    <tr>\n",
       "      <th>2</th>\n",
       "      <td>3</td>\n",
       "      <td>5</td>\n",
       "      <td>0</td>\n",
       "      <td>0</td>\n",
       "      <td>0</td>\n",
       "      <td>0</td>\n",
       "      <td>0</td>\n",
       "      <td>0</td>\n",
       "      <td>1</td>\n",
       "      <td>9</td>\n",
       "      <td>6</td>\n",
       "      <td>2</td>\n",
       "      <td>9</td>\n",
       "      <td>1</td>\n",
       "    </tr>\n",
       "  </tbody>\n",
       "</table>\n",
       "</div>"
      ],
      "text/org": [
       "|    |   BREAST |   CNS |   COLON |   K562A-repro |   K562B-repro |   LEUKEMIA |   MCF7A-repro |   MCF7D-repro |   MELANOMA |   NSCLC |   OVARIAN |   PROSTATE |   RENAL |   UNKNOWN |\n",
       "|----+----------+-------+---------+---------------+---------------+------------+---------------+---------------+------------+---------+-----------+------------+---------+-----------|\n",
       "|  0 |        2 |     0 |       7 |             1 |             1 |          6 |             1 |             1 |          0 |       0 |         0 |          0 |       0 |         0 |\n",
       "|  1 |        2 |     0 |       0 |             0 |             0 |          0 |             0 |             0 |          7 |       0 |         0 |          0 |       0 |         0 |\n",
       "|  2 |        3 |     5 |       0 |             0 |             0 |          0 |             0 |             0 |          1 |       9 |         6 |          2 |       9 |         1 |"
      ],
      "text/plain": [
       "   BREAST  CNS  COLON  K562A-repro  K562B-repro  LEUKEMIA  MCF7A-repro  \\\n",
       "0       2    0      7            1            1         6            1   \n",
       "1       2    0      0            0            0         0            0   \n",
       "2       3    5      0            0            0         0            0   \n",
       "\n",
       "   MCF7D-repro  MELANOMA  NSCLC  OVARIAN  PROSTATE  RENAL  UNKNOWN  \n",
       "0            1         0      0        0         0      0        0  \n",
       "1            0         7      0        0         0      0        0  \n",
       "2            0         1      9        6         2      9        1  "
      ]
     },
     "execution_count": 69,
     "metadata": {},
     "output_type": "execute_result"
    }
   ],
   "source": [
    "# Build table with label count\n",
    "import pandas as pd\n",
    "\n",
    "y = np.array(y)\n",
    "labels = np.unique(y)\n",
    "l_counts = []\n",
    "for k in range(3):\n",
    "    k_counts = []\n",
    "    y_k = y[C==k]\n",
    "    for label in labels:\n",
    "        k_counts.append(len(y_k[y_k == label]))\n",
    "    l_counts.append(k_counts)\n",
    "\n",
    "df = pd.DataFrame(data=l_counts, columns=labels)\n",
    "df"
   ]
  },
  {
   "cell_type": "markdown",
   "metadata": {},
   "source": [
    "We see that the procedure is successful at grouping together samples of the same cancer. In fact, the two breast cancers in the second cluster were later found to be misdiagnosed and were melanomas that had metastasized. However, K-means clustering has shortcomings in this application. For one, it does not give a linear ordering of objects within a cluster. Secondly, as the number of clusters K is changed, the cluster membership can change in arbitrary ways. That is, with say four clusters, the clusters need not to be nested with the three clusters above. For these reason, hierarchical clustering is probably preferable for this application."
   ]
  },
  {
   "cell_type": "code",
   "execution_count": null,
   "metadata": {},
   "outputs": [],
   "source": []
  }
 ],
 "metadata": {
  "kernelspec": {
   "display_name": "Python 3",
   "language": "python",
   "name": "python3"
  },
  "language_info": {
   "codemirror_mode": {
    "name": "ipython",
    "version": 3
   },
   "file_extension": ".py",
   "mimetype": "text/x-python",
   "name": "python",
   "nbconvert_exporter": "python",
   "pygments_lexer": "ipython3",
   "version": "3.8.1"
  }
 },
 "nbformat": 4,
 "nbformat_minor": 4
}
